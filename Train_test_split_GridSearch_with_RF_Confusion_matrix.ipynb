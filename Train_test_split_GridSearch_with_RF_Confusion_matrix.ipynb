{
 "cells": [
  {
   "cell_type": "code",
   "execution_count": 1,
   "metadata": {
    "collapsed": true
   },
   "outputs": [],
   "source": [
    "import numpy as np\n",
    "import pandas as pd\n",
    "from sklearn.cross_validation import train_test_split"
   ]
  },
  {
   "cell_type": "code",
   "execution_count": 2,
   "metadata": {
    "collapsed": false
   },
   "outputs": [],
   "source": [
    "# Generate a dataframe\n",
    "df = pd.DataFrame(np.random.randn(10, 5), columns=['X1', 'X2', 'X3', 'X4', 'y'])"
   ]
  },
  {
   "cell_type": "code",
   "execution_count": 3,
   "metadata": {
    "collapsed": false
   },
   "outputs": [],
   "source": [
    "# transform predictor to binary. This is not efficient\n",
    "for i in range(0, len(df['y'])):\n",
    "    if df.ix[i, 4] > 0.0:\n",
    "        df.ix[i,4] = 1\n",
    "    else:\n",
    "        df.ix[i,4] = 0"
   ]
  },
  {
   "cell_type": "code",
   "execution_count": 4,
   "metadata": {
    "collapsed": false
   },
   "outputs": [
    {
     "data": {
      "text/html": [
       "<div>\n",
       "<table border=\"1\" class=\"dataframe\">\n",
       "  <thead>\n",
       "    <tr style=\"text-align: right;\">\n",
       "      <th></th>\n",
       "      <th>X1</th>\n",
       "      <th>X2</th>\n",
       "      <th>X3</th>\n",
       "      <th>X4</th>\n",
       "      <th>y</th>\n",
       "    </tr>\n",
       "  </thead>\n",
       "  <tbody>\n",
       "    <tr>\n",
       "      <th>0</th>\n",
       "      <td>0.297255</td>\n",
       "      <td>1.141188</td>\n",
       "      <td>0.470979</td>\n",
       "      <td>1.550472</td>\n",
       "      <td>1.0</td>\n",
       "    </tr>\n",
       "    <tr>\n",
       "      <th>1</th>\n",
       "      <td>-0.574597</td>\n",
       "      <td>-0.722837</td>\n",
       "      <td>-0.359823</td>\n",
       "      <td>0.436401</td>\n",
       "      <td>0.0</td>\n",
       "    </tr>\n",
       "    <tr>\n",
       "      <th>2</th>\n",
       "      <td>0.762967</td>\n",
       "      <td>0.432245</td>\n",
       "      <td>0.373065</td>\n",
       "      <td>0.306517</td>\n",
       "      <td>1.0</td>\n",
       "    </tr>\n",
       "    <tr>\n",
       "      <th>3</th>\n",
       "      <td>0.639009</td>\n",
       "      <td>0.643137</td>\n",
       "      <td>-0.319340</td>\n",
       "      <td>0.711264</td>\n",
       "      <td>0.0</td>\n",
       "    </tr>\n",
       "    <tr>\n",
       "      <th>4</th>\n",
       "      <td>0.280654</td>\n",
       "      <td>-1.657717</td>\n",
       "      <td>-0.815747</td>\n",
       "      <td>-0.472633</td>\n",
       "      <td>1.0</td>\n",
       "    </tr>\n",
       "  </tbody>\n",
       "</table>\n",
       "</div>"
      ],
      "text/plain": [
       "         X1        X2        X3        X4    y\n",
       "0  0.297255  1.141188  0.470979  1.550472  1.0\n",
       "1 -0.574597 -0.722837 -0.359823  0.436401  0.0\n",
       "2  0.762967  0.432245  0.373065  0.306517  1.0\n",
       "3  0.639009  0.643137 -0.319340  0.711264  0.0\n",
       "4  0.280654 -1.657717 -0.815747 -0.472633  1.0"
      ]
     },
     "execution_count": 4,
     "metadata": {},
     "output_type": "execute_result"
    }
   ],
   "source": [
    "df.head()"
   ]
  },
  {
   "cell_type": "code",
   "execution_count": 5,
   "metadata": {
    "collapsed": false
   },
   "outputs": [
    {
     "name": "stdout",
     "output_type": "stream",
     "text": [
      "Feature columns \n",
      "          X1        X2        X3        X4\n",
      "0  0.297255  1.141188  0.470979  1.550472\n",
      "1 -0.574597 -0.722837 -0.359823  0.436401\n",
      "2  0.762967  0.432245  0.373065  0.306517\n",
      "3  0.639009  0.643137 -0.319340  0.711264\n",
      "4  0.280654 -1.657717 -0.815747 -0.472633\n",
      "5  0.165358  1.214261 -0.017239  0.209484\n",
      "6 -0.888134  0.217141  1.579015 -0.102677\n",
      "7  0.159621  0.322033 -0.244453  0.808211\n",
      "8 -0.481122  0.285399  0.680941 -0.506620\n",
      "9  0.123199 -0.496643  0.809115  0.327448\n",
      "Target column \n",
      " 0    1.0\n",
      "1    0.0\n",
      "2    1.0\n",
      "3    0.0\n",
      "4    1.0\n",
      "5    1.0\n",
      "6    0.0\n",
      "7    0.0\n",
      "8    0.0\n",
      "9    0.0\n",
      "Name: y, dtype: float64\n"
     ]
    }
   ],
   "source": [
    "# I use () because of python3, print without them in python2.\n",
    "features = df.ix[:,0:4]\n",
    "print(\"Feature columns \\n\", features)\n",
    "target = df.ix[:,4]\n",
    "print(\"Target column \\n\",target)"
   ]
  },
  {
   "cell_type": "markdown",
   "metadata": {},
   "source": [
    "In the dataset above, **features** represents your predictors and **target** the label of the data. **train_test_split** will split your dataset in 2 parts, training and testing subsets:\n",
    "\n",
    "1. X_train, y_train will be used for the machine learning models and their accuracy will be examined with Cross Validation.\n",
    "2. X_test and y_test will be the \"unseen\" data that you will test your model on.\n",
    "\n",
    "**Parameters:**\n",
    "\n",
    "1. test_size: The percentage of features that will be on your test set\n",
    "2. random_state: Choose a number. If someone else wants to reproduce the results, he/she has to use the same number."
   ]
  },
  {
   "cell_type": "code",
   "execution_count": 6,
   "metadata": {
    "collapsed": true
   },
   "outputs": [],
   "source": [
    "X_train, X_test, y_train, y_test = train_test_split(features, target, test_size=0.33, random_state=42)"
   ]
  },
  {
   "cell_type": "code",
   "execution_count": 7,
   "metadata": {
    "collapsed": false
   },
   "outputs": [
    {
     "name": "stdout",
     "output_type": "stream",
     "text": [
      "         X1        X2        X3        X4\n",
      "7  0.159621  0.322033 -0.244453  0.808211\n",
      "2  0.762967  0.432245  0.373065  0.306517\n",
      "9  0.123199 -0.496643  0.809115  0.327448\n",
      "4  0.280654 -1.657717 -0.815747 -0.472633\n",
      "3  0.639009  0.643137 -0.319340  0.711264\n",
      "6 -0.888134  0.217141  1.579015 -0.102677 7    0.0\n",
      "2    1.0\n",
      "9    0.0\n",
      "4    1.0\n",
      "3    0.0\n",
      "6    0.0\n",
      "Name: y, dtype: float64\n",
      "----------\n",
      "         X1        X2        X3        X4\n",
      "8 -0.481122  0.285399  0.680941 -0.506620\n",
      "1 -0.574597 -0.722837 -0.359823  0.436401\n",
      "5  0.165358  1.214261 -0.017239  0.209484\n",
      "0  0.297255  1.141188  0.470979  1.550472 8    0.0\n",
      "1    0.0\n",
      "5    1.0\n",
      "0    1.0\n",
      "Name: y, dtype: float64\n"
     ]
    }
   ],
   "source": [
    "# Same as above, I use () because of python3, print without them in python2.\n",
    "print(X_train, y_train)\n",
    "print(\"----------\")\n",
    "print(X_test, y_test)"
   ]
  },
  {
   "cell_type": "markdown",
   "metadata": {},
   "source": [
    "### Grid search with Random Forests\n",
    "\n",
    "With Grid search, we basically select a specific model (RF) and create a set with some parameters (depth of each tree, number of estimators, etc) for which we manually select some values. The **grid search will try each different combination** of these parameters, then it will **cross validate** the model and measure **how good** it is with these different sets using a specific estimator (you can choose this estimator through scoring)\n",
    "\n",
    "You can find more information here: http://scikit-learn.org/stable/modules/generated/sklearn.grid_search.GridSearchCV.html#sklearn.grid_search.GridSearchCV"
   ]
  },
  {
   "cell_type": "code",
   "execution_count": 8,
   "metadata": {
    "collapsed": true
   },
   "outputs": [],
   "source": [
    "from sklearn.grid_search import GridSearchCV\n",
    "from sklearn.ensemble import RandomForestClassifier"
   ]
  },
  {
   "cell_type": "code",
   "execution_count": 9,
   "metadata": {
    "collapsed": false
   },
   "outputs": [
    {
     "name": "stdout",
     "output_type": "stream",
     "text": [
      "Best estimator\n",
      "0.666666666667\n",
      "RandomForestClassifier(bootstrap=True, class_weight=None, criterion='gini',\n",
      "            max_depth=None, max_features='auto', max_leaf_nodes=None,\n",
      "            min_samples_leaf=1, min_samples_split=2,\n",
      "            min_weight_fraction_leaf=0.0, n_estimators=20, n_jobs=1,\n",
      "            oob_score=False, random_state=None, verbose=0,\n",
      "            warm_start=False)\n",
      "All estimators [mean: 0.50000, std: 0.16667, params: {'n_estimators': 10}, mean: 0.66667, std: 0.00000, params: {'n_estimators': 20}, mean: 0.66667, std: 0.00000, params: {'n_estimators': 50}, mean: 0.66667, std: 0.00000, params: {'n_estimators': 100}, mean: 0.66667, std: 0.00000, params: {'n_estimators': 200}]\n"
     ]
    }
   ],
   "source": [
    "n_estimators = [10,20,50,100,200] # DON'T USE MANY TREES, IT WILL TAKE A LOT TO TRAIN. TRY WITH LESS FIRST, THEN ADD MORE\n",
    "\n",
    "# This is the set of parameters that we will test in the grid search\n",
    "params = {'n_estimators': n_estimators} \n",
    " \n",
    "gs = GridSearchCV(\n",
    "     estimator= RandomForestClassifier(), # the machine learning model we have selected\n",
    "     cv= 2, #KFold cross validation with just 2 folds (just for educational purposes)\n",
    "     param_grid=params, # the set of different parameters that the GridSearch will test\n",
    "     scoring='accuracy', # measuring the fitness of the model\n",
    "     )\n",
    "\n",
    "gs.fit(X_train, y_train)\n",
    "print ('Best estimator')\n",
    "print (gs.best_score_)\n",
    "print (gs.best_estimator_)\n",
    "print ('All estimators', gs.grid_scores_)"
   ]
  },
  {
   "cell_type": "code",
   "execution_count": 10,
   "metadata": {
    "collapsed": false
   },
   "outputs": [
    {
     "name": "stdout",
     "output_type": "stream",
     "text": [
      "Populating the interactive namespace from numpy and matplotlib\n"
     ]
    }
   ],
   "source": [
    "import matplotlib.pyplot as plt\n",
    "%pylab inline"
   ]
  },
  {
   "cell_type": "code",
   "execution_count": 11,
   "metadata": {
    "collapsed": false
   },
   "outputs": [
    {
     "name": "stdout",
     "output_type": "stream",
     "text": [
      "[[2 0]\n",
      " [2 0]]\n"
     ]
    },
    {
     "data": {
      "image/png": "[encoded data removed]",
      "text/plain": [
       "<matplotlib.figure.Figure at 0x25147120860>"
      ]
     },
     "metadata": {},
     "output_type": "display_data"
    }
   ],
   "source": [
    "from sklearn.metrics import confusion_matrix\n",
    "\n",
    "#Confusion matrix for RF with grid search\n",
    "y_prediction = gs.predict(X_test) # Now we are using the test set which was not used in training in order to make the predictions\n",
    "confusion_mat = confusion_matrix(y_true = y_test, y_pred = y_prediction)\n",
    "print(confusion_mat)\n",
    "fig, ax = plt.subplots(figsize = (2.5, 2.5))\n",
    "ax.matshow(confusion_mat, cmap = plt.cm.Blues, alpha = 0.3)\n",
    "for i in range(confusion_mat.shape[0]):\n",
    "    for j in range(confusion_mat.shape[1]):\n",
    "        ax.text(x=j, y = i, s = confusion_mat[i, j], va = 'center', ha = 'center')\n",
    "plt.xlabel('Predicted label')\n",
    "plt.ylabel('True label')\n",
    "plt.show()"
   ]
  },
  {
   "cell_type": "code",
   "execution_count": null,
   "metadata": {
    "collapsed": true
   },
   "outputs": [],
   "source": []
  }
 ],
 "metadata": {
  "kernelspec": {
   "display_name": "Python 3",
   "language": "python",
   "name": "python3"
  },
  "language_info": {
   "codemirror_mode": {
    "name": "ipython",
    "version": 3
   },
   "file_extension": ".py",
   "mimetype": "text/x-python",
   "name": "python",
   "nbconvert_exporter": "python",
   "pygments_lexer": "ipython3",
   "version": "3.5.1"
  }
 },
 "nbformat": 4,
 "nbformat_minor": 0
}
